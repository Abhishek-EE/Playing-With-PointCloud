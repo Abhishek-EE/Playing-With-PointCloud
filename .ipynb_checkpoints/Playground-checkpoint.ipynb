{
 "cells": [
  {
   "cell_type": "code",
   "execution_count": 1,
   "metadata": {},
   "outputs": [
    {
     "name": "stdout",
     "output_type": "stream",
     "text": [
      "Jupyter environment detected. Enabling Open3D WebVisualizer.\n",
      "[Open3D INFO] WebRTC GUI backend enabled.\n",
      "[Open3D INFO] WebRTCWindowSystem: HTTP handshake server disabled.\n"
     ]
    }
   ],
   "source": [
    "import os\n",
    "import point_cloud_playground\n",
    "import open3d as o3d"
   ]
  },
  {
   "cell_type": "markdown",
   "metadata": {},
   "source": [
    "## Load Data"
   ]
  },
  {
   "cell_type": "code",
   "execution_count": 2,
   "metadata": {},
   "outputs": [],
   "source": [
    "data_folder = './data'"
   ]
  },
  {
   "cell_type": "code",
   "execution_count": 3,
   "metadata": {},
   "outputs": [],
   "source": [
    "files = os.listdir(data_folder)"
   ]
  },
  {
   "cell_type": "code",
   "execution_count": 4,
   "metadata": {},
   "outputs": [],
   "source": [
    "point_cloud_files = [file for file in files if file.endswith(('.ply'))]"
   ]
  },
  {
   "cell_type": "code",
   "execution_count": 17,
   "metadata": {},
   "outputs": [],
   "source": [
    "point_clouds = []\n",
    "for file in point_cloud_files:\n",
    "    file_path = os.path.join(data_folder,file)\n",
    "    point_cloud = o3d.io.read_point_cloud(file_path)\n",
    "    point_clouds.append((point_cloud,file))"
   ]
  },
  {
   "cell_type": "markdown",
   "metadata": {},
   "source": [
    "### visualize data"
   ]
  },
  {
   "cell_type": "code",
   "execution_count": 19,
   "metadata": {},
   "outputs": [],
   "source": [
    "o3d.visualization.draw_geometries(\n",
    "    [point_clouds[0][0]],\n",
    "    window_name=\"Open3D Visualization\",\n",
    "    width=800,\n",
    "    height=600,\n",
    "    left=50,\n",
    "    top=50,\n",
    "    point_show_normal=True\n",
    ")"
   ]
  },
  {
   "cell_type": "markdown",
   "metadata": {},
   "source": [
    "## FLoor Detection "
   ]
  },
  {
   "cell_type": "code",
   "execution_count": 7,
   "metadata": {},
   "outputs": [],
   "source": [
    "\n",
    "# pc = point_clouds[0]\n",
    "# plane_detector = PlaneDetectorRANSAC(pc)\n",
    "# floor_equation = plane_detector.detect_plane()"
   ]
  },
  {
   "cell_type": "code",
   "execution_count": 16,
   "metadata": {},
   "outputs": [],
   "source": [
    "from point_cloud_playground.plane_detector import PlaneDetectorRANSAC\n",
    "from point_cloud_playground import utils\n",
    "def detect_and_visualize(point_cloud,count):\n",
    "    pc = point_cloud\n",
    "    plane_detector = PlaneDetectorRANSAC(pc)\n",
    "    floor_equation = plane_detector.detect_plane()\n",
    "    floor_mesh = utils.create_plane_from_equation(floor_equation,plane_size=1)\n",
    "    o3d.visualization.draw_geometries(\n",
    "                                        [floor_mesh,plane_detector.point_cloud],\n",
    "                                        window_name=\"Open3D Visualization \" + str(count),\n",
    "                                        width=800,\n",
    "                                        height=600,\n",
    "                                        left=50,\n",
    "                                        top=50,\n",
    "                                        point_show_normal=True\n",
    "                                    )"
   ]
  },
  {
   "cell_type": "markdown",
   "metadata": {},
   "source": [
    "fails in cas"
   ]
  },
  {
   "cell_type": "markdown",
   "metadata": {},
   "source": [
    "### Visualize Floor"
   ]
  },
  {
   "cell_type": "code",
   "execution_count": 15,
   "metadata": {},
   "outputs": [],
   "source": [
    "count = 0\n",
    "for pc in point_clouds:\n",
    "    detect_and_visualize(pc,count)\n",
    "    count += 1"
   ]
  },
  {
   "cell_type": "code",
   "execution_count": 9,
   "metadata": {},
   "outputs": [],
   "source": [
    "mesh_frame = o3d.geometry.TriangleMesh.create_coordinate_frame(\n",
    "    size=2, origin=[0,0,0])"
   ]
  },
  {
   "cell_type": "code",
   "execution_count": 12,
   "metadata": {},
   "outputs": [],
   "source": [
    "o3d.visualization.draw_geometries(\n",
    "    [mesh_old,plane_detector.point_cloud],\n",
    "    window_name=\"Open3D Visualization\",\n",
    "    width=800,\n",
    "    height=600,\n",
    "    left=50,\n",
    "    top=50,\n",
    "    point_show_normal=True\n",
    ")"
   ]
  },
  {
   "cell_type": "markdown",
   "metadata": {},
   "source": [
    "## FLoor Reorientation"
   ]
  },
  {
   "cell_type": "code",
   "execution_count": 11,
   "metadata": {},
   "outputs": [],
   "source": [
    "status = plane_detector.reorient_plane()"
   ]
  },
  {
   "cell_type": "code",
   "execution_count": 13,
   "metadata": {},
   "outputs": [],
   "source": [
    "new_floor_equation = plane_detector.detect_plane()"
   ]
  },
  {
   "cell_type": "code",
   "execution_count": 15,
   "metadata": {},
   "outputs": [
    {
     "data": {
      "text/plain": [
       "(0.9999967944760603,\n",
       " -0.0024752167841755124,\n",
       " -0.0005332349158403878,\n",
       " -3.5440203927544998)"
      ]
     },
     "execution_count": 15,
     "metadata": {},
     "output_type": "execute_result"
    }
   ],
   "source": [
    "new_floor_equation"
   ]
  },
  {
   "cell_type": "code",
   "execution_count": 16,
   "metadata": {},
   "outputs": [
    {
     "data": {
      "text/plain": [
       "(0.5443135199576847,\n",
       " 0.005101052293670011,\n",
       " 0.8388663607850612,\n",
       " -1.249191499141009)"
      ]
     },
     "execution_count": 16,
     "metadata": {},
     "output_type": "execute_result"
    }
   ],
   "source": [
    "floor_equation"
   ]
  },
  {
   "cell_type": "code",
   "execution_count": 51,
   "metadata": {},
   "outputs": [],
   "source": [
    "from point_cloud_playground import utils\n",
    "mesh_new = utils.create_plane_from_equation(nfl,plane_size=5)\n",
    "mesh_frame = o3d.geometry.TriangleMesh.create_coordinate_frame(\n",
    "    size=2, origin=[0,0,0])\n",
    "o3d.visualization.draw_geometries(\n",
    "    [mesh_new],\n",
    "    window_name=\"Open3D Visualization\",\n",
    "    width=800,\n",
    "    height=600,\n",
    "    left=50,\n",
    "    top=50,\n",
    "    point_show_normal=True\n",
    ")"
   ]
  },
  {
   "cell_type": "markdown",
   "metadata": {},
   "source": [
    "## Floor Smoother"
   ]
  },
  {
   "cell_type": "code",
   "execution_count": null,
   "metadata": {},
   "outputs": [],
   "source": [
    "from point_cloud_playground.point_cloud_smoother import PointCloudSmoother"
   ]
  },
  {
   "cell_type": "code",
   "execution_count": null,
   "metadata": {},
   "outputs": [],
   "source": [
    "smoother = PointCloudSmoother(plane_detector.point_cloud)"
   ]
  },
  {
   "cell_type": "code",
   "execution_count": null,
   "metadata": {},
   "outputs": [],
   "source": [
    "point_Cloud = smoother.gaussian_filtering(0.1)"
   ]
  },
  {
   "cell_type": "code",
   "execution_count": 24,
   "metadata": {},
   "outputs": [],
   "source": [
    "import numpy as np\n",
    "def transform_plane(plane_equation, transformation_matrix):\n",
    "    \"\"\"\n",
    "    Transform a plane equation by a given transformation matrix.\n",
    "    \n",
    "    Args:\n",
    "    - plane_equation (tuple): The coefficients (a, b, c, d) of the plane equation ax + by + cz + d = 0.\n",
    "    - transformation_matrix (numpy.ndarray): A 4x4 transformation matrix.\n",
    "    \n",
    "    Returns:\n",
    "    - new_plane_equation (tuple): The coefficients (a', b', c', d') of the new plane equation.\n",
    "    \"\"\"\n",
    "    # Extract normal vector and constant term from the plane equation\n",
    "    a, b, c, d = plane_equation\n",
    "    normal_vector = np.array([a, b, c])\n",
    "    \n",
    "    # Transform the normal vector\n",
    "    normal_vector_h = np.append(normal_vector, 0)  # Convert to homogeneous coordinates (4D)\n",
    "    transformed_normal_vector_h = transformation_matrix @ normal_vector_h\n",
    "    transformed_normal_vector = transformed_normal_vector_h[:3]  # Convert back to 3D\n",
    "    \n",
    "    # Normalize the transformed normal vector\n",
    "    transformed_normal_vector /= np.linalg.norm(transformed_normal_vector)\n",
    "    \n",
    "    # Find a point on the original plane\n",
    "    if a != 0:\n",
    "        point_on_plane = np.array([-d / a, 0, 0, 1])\n",
    "    elif b != 0:\n",
    "        point_on_plane = np.array([0, -d / b, 0, 1])\n",
    "    elif c != 0:\n",
    "        point_on_plane = np.array([0, 0, -d / c, 1])\n",
    "    else:\n",
    "        raise ValueError(\"Invalid plane equation: normal vector cannot be zero.\")\n",
    "    \n",
    "    # Transform the point on the plane\n",
    "    transformed_point = transformation_matrix @ point_on_plane\n",
    "    \n",
    "    # Compute the new constant term\n",
    "    new_d = -np.dot(transformed_normal_vector, transformed_point[:3])\n",
    "    \n",
    "    # Return the new plane equation\n",
    "    new_plane_equation = (*transformed_normal_vector, new_d)\n",
    "    return new_plane_equation\n"
   ]
  },
  {
   "cell_type": "code",
   "execution_count": 25,
   "metadata": {},
   "outputs": [],
   "source": [
    "transformation_matrix = utils.calculate_reorientation_matrix(floor_equation)"
   ]
  },
  {
   "cell_type": "code",
   "execution_count": 45,
   "metadata": {},
   "outputs": [],
   "source": [
    "nfl = transform_plane(floor_equation,transformation_matrix)"
   ]
  },
  {
   "cell_type": "code",
   "execution_count": 46,
   "metadata": {},
   "outputs": [
    {
     "data": {
      "text/plain": [
       "(1.0, -8.673617379884035e-19, -5.551115123125783e-17, -1.249191499141009)"
      ]
     },
     "execution_count": 46,
     "metadata": {},
     "output_type": "execute_result"
    }
   ],
   "source": [
    "nfl"
   ]
  },
  {
   "cell_type": "code",
   "execution_count": 47,
   "metadata": {},
   "outputs": [],
   "source": [
    "nfl = nfl/np.linalg.norm(nfl)"
   ]
  },
  {
   "cell_type": "code",
   "execution_count": 48,
   "metadata": {},
   "outputs": [],
   "source": [
    "feq = floor_equation/np.linalg.norm(floor_equation)"
   ]
  },
  {
   "cell_type": "code",
   "execution_count": 49,
   "metadata": {},
   "outputs": [
    {
     "data": {
      "text/plain": [
       "array([ 6.24941488e-01, -5.42050335e-19, -3.46912214e-17, -7.80671594e-01])"
      ]
     },
     "execution_count": 49,
     "metadata": {},
     "output_type": "execute_result"
    }
   ],
   "source": [
    "nfl"
   ]
  },
  {
   "cell_type": "code",
   "execution_count": 50,
   "metadata": {},
   "outputs": [
    {
     "data": {
      "text/plain": [
       "array([ 0.3401641 ,  0.00318786,  0.52424239, -0.78067159])"
      ]
     },
     "execution_count": 50,
     "metadata": {},
     "output_type": "execute_result"
    }
   ],
   "source": [
    "feq"
   ]
  }
 ],
 "metadata": {
  "kernelspec": {
   "display_name": "pytorch3d",
   "language": "python",
   "name": "pytorch3d"
  },
  "language_info": {
   "codemirror_mode": {
    "name": "ipython",
    "version": 3
   },
   "file_extension": ".py",
   "mimetype": "text/x-python",
   "name": "python",
   "nbconvert_exporter": "python",
   "pygments_lexer": "ipython3",
   "version": "3.9.19"
  }
 },
 "nbformat": 4,
 "nbformat_minor": 4
}
